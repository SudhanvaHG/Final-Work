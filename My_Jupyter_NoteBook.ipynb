{
 "cells": [
  {
   "cell_type": "markdown",
   "id": "02471d60-8ade-4120-a515-09edcd304d06",
   "metadata": {},
   "source": [
    "<H1>My Jupyter Notebook on IBM Watson Studio</H1>"
   ]
  },
  {
   "cell_type": "markdown",
   "id": "cafe5a31-ab6f-4a68-806f-1ee51f615461",
   "metadata": {},
   "source": [
    "<br>**SUDHANVA H G**</br>\n",
    "I am currently pursuing my masters in Big Data analytics. My ambition is to do research in data science field."
   ]
  },
  {
   "cell_type": "markdown",
   "id": "74b8d64c-8246-47d8-83c3-00f72e7ff888",
   "metadata": {},
   "source": [
    "*I am interested in Data science because I love mathematics, storytelling, analysis and problem solving. I want to enter research field in Data science.*"
   ]
  },
  {
   "cell_type": "markdown",
   "id": "2cb7e331-9c22-434b-b846-d9060795f32e",
   "metadata": {},
   "source": [
    "<h3>The code below is a simple code that transforms lowercase word into uppercase word</h3>. "
   ]
  },
  {
   "cell_type": "code",
   "execution_count": 10,
   "id": "410bf5b0-271f-4f7c-8af1-fdef868698e4",
   "metadata": {},
   "outputs": [
    {
     "name": "stdin",
     "output_type": "stream",
     "text": [
      "Enter a word:  Coursera\n"
     ]
    },
    {
     "name": "stdout",
     "output_type": "stream",
     "text": [
      "Capitalized word:  COURSERA\n"
     ]
    }
   ],
   "source": [
    "Lword = input(\"Enter a word: \")\n",
    "Uword = Lword.upper()\n",
    "print(\"Capitalized word: \",Uword)"
   ]
  },
  {
   "cell_type": "markdown",
   "id": "587e58e0-8f49-4a1a-b4d6-b9a6cf7d78e0",
   "metadata": {},
   "source": [
    "<hr>\n",
    "\n",
    "- Alpha\n",
    "- Beta\n",
    "- Gamma\n",
    "\n",
    "1. Red\n",
    "2. White\n",
    "3. Black\n",
    "\n",
    "<a> https://www.youtube.com </a>\n",
    "\n"
   ]
  },
  {
   "cell_type": "code",
   "execution_count": null,
   "id": "93eb6714-12f7-43a2-bf50-f3b917f21680",
   "metadata": {},
   "outputs": [],
   "source": []
  }
 ],
 "metadata": {
  "kernelspec": {
   "display_name": "Python",
   "language": "python",
   "name": "conda-env-python-py"
  },
  "language_info": {
   "codemirror_mode": {
    "name": "ipython",
    "version": 3
   },
   "file_extension": ".py",
   "mimetype": "text/x-python",
   "name": "python",
   "nbconvert_exporter": "python",
   "pygments_lexer": "ipython3",
   "version": "3.7.12"
  }
 },
 "nbformat": 4,
 "nbformat_minor": 5
}
